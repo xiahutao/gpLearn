{
 "cells": [
  {
   "cell_type": "markdown",
   "metadata": {},
   "source": [
    "## 最优解（x趋近1，y趋近0）"
   ]
  },
  {
   "cell_type": "code",
   "execution_count": 1,
   "metadata": {},
   "outputs": [],
   "source": [
    "from scipy import optimize\n",
    "import numpy as np"
   ]
  },
  {
   "cell_type": "code",
   "execution_count": 2,
   "metadata": {},
   "outputs": [],
   "source": [
    "# 最小化目标函数\n",
    "def f():\n",
    "    return lambda x: (x[0]**2 + 3*x[0]*x[1] + 2*x[1]**2 + 4*x[0] + 5*x[1])"
   ]
  },
  {
   "cell_type": "code",
   "execution_count": 3,
   "metadata": {
    "scrolled": true
   },
   "outputs": [],
   "source": [
    "# 约束条件\n",
    "def con():\n",
    "    # 约束条件 分为eq 和ineq\n",
    "    #eq表示 函数结果等于0 ； ineq 表示 表达式大于等于0  \n",
    "    cons = ({'type': 'eq', 'fun': lambda x: x[0] + x[1] - 1},\\\n",
    "              {'type': 'ineq', 'fun': lambda x: x[0]-0.000000000001},\\\n",
    "             {'type': 'ineq', 'fun': lambda x: x[1]-0.000000000001})\n",
    "    return cons"
   ]
  },
  {
   "cell_type": "code",
   "execution_count": 4,
   "metadata": {},
   "outputs": [
    {
     "data": {
      "text/plain": [
       "     fun: 5.000000000001999\n",
       "     jac: array([6.        , 8.00000006])\n",
       " message: 'Optimization terminated successfully.'\n",
       "    nfev: 8\n",
       "     nit: 2\n",
       "    njev: 2\n",
       "  status: 0\n",
       " success: True\n",
       "       x: array([1.00000000e+00, 9.99977878e-13])"
      ]
     },
     "execution_count": 4,
     "metadata": {},
     "output_type": "execute_result"
    }
   ],
   "source": [
    "cons = con()\n",
    "fun = f()\n",
    "optimize.minimize(fun, np.array([0.5, 0.5]), method='SLSQP',constraints=cons)"
   ]
  },
  {
   "cell_type": "code",
   "execution_count": 26,
   "metadata": {},
   "outputs": [],
   "source": [
    "from __future__ import division\n",
    "import pandas as pd\n",
    "import numpy as np\n",
    "import statsmodels.api as sm\n",
    "import math\n",
    "import datetime\n",
    "from dateutil.parser import parse\n",
    "from dateutil.relativedelta import relativedelta\n",
    "from jqdatasdk import *\n",
    "import warnings\n",
    "warnings.filterwarnings(\"ignore\")\n",
    "auth('18610039264', 'zg19491001')"
   ]
  },
  {
   "cell_type": "code",
   "execution_count": 35,
   "metadata": {},
   "outputs": [
    {
     "data": {
      "text/html": [
       "<div>\n",
       "<style scoped>\n",
       "    .dataframe tbody tr th:only-of-type {\n",
       "        vertical-align: middle;\n",
       "    }\n",
       "\n",
       "    .dataframe tbody tr th {\n",
       "        vertical-align: top;\n",
       "    }\n",
       "\n",
       "    .dataframe thead th {\n",
       "        text-align: right;\n",
       "    }\n",
       "</style>\n",
       "<table border=\"1\" class=\"dataframe\">\n",
       "  <thead>\n",
       "    <tr style=\"text-align: right;\">\n",
       "      <th></th>\n",
       "      <th>tradedate</th>\n",
       "      <th>nv</th>\n",
       "      <th>chg_fund</th>\n",
       "    </tr>\n",
       "  </thead>\n",
       "  <tbody>\n",
       "    <tr>\n",
       "      <th>0</th>\n",
       "      <td>2011-10-10</td>\n",
       "      <td>1.345</td>\n",
       "      <td>0.000000</td>\n",
       "    </tr>\n",
       "    <tr>\n",
       "      <th>1</th>\n",
       "      <td>2011-10-11</td>\n",
       "      <td>1.333</td>\n",
       "      <td>-0.008922</td>\n",
       "    </tr>\n",
       "    <tr>\n",
       "      <th>2</th>\n",
       "      <td>2011-10-12</td>\n",
       "      <td>1.366</td>\n",
       "      <td>0.024756</td>\n",
       "    </tr>\n",
       "    <tr>\n",
       "      <th>3</th>\n",
       "      <td>2011-10-13</td>\n",
       "      <td>1.384</td>\n",
       "      <td>0.013177</td>\n",
       "    </tr>\n",
       "    <tr>\n",
       "      <th>4</th>\n",
       "      <td>2011-10-14</td>\n",
       "      <td>1.381</td>\n",
       "      <td>-0.002168</td>\n",
       "    </tr>\n",
       "    <tr>\n",
       "      <th>...</th>\n",
       "      <td>...</td>\n",
       "      <td>...</td>\n",
       "      <td>...</td>\n",
       "    </tr>\n",
       "    <tr>\n",
       "      <th>2236</th>\n",
       "      <td>2020-12-16</td>\n",
       "      <td>6.807</td>\n",
       "      <td>0.005911</td>\n",
       "    </tr>\n",
       "    <tr>\n",
       "      <th>2237</th>\n",
       "      <td>2020-12-17</td>\n",
       "      <td>6.899</td>\n",
       "      <td>0.013515</td>\n",
       "    </tr>\n",
       "    <tr>\n",
       "      <th>2238</th>\n",
       "      <td>2020-12-18</td>\n",
       "      <td>6.942</td>\n",
       "      <td>0.006233</td>\n",
       "    </tr>\n",
       "    <tr>\n",
       "      <th>2239</th>\n",
       "      <td>2020-12-21</td>\n",
       "      <td>7.024</td>\n",
       "      <td>0.011812</td>\n",
       "    </tr>\n",
       "    <tr>\n",
       "      <th>2240</th>\n",
       "      <td>2020-12-22</td>\n",
       "      <td>6.921</td>\n",
       "      <td>-0.014664</td>\n",
       "    </tr>\n",
       "  </tbody>\n",
       "</table>\n",
       "<p>2241 rows × 3 columns</p>\n",
       "</div>"
      ],
      "text/plain": [
       "       tradedate     nv  chg_fund\n",
       "0     2011-10-10  1.345  0.000000\n",
       "1     2011-10-11  1.333 -0.008922\n",
       "2     2011-10-12  1.366  0.024756\n",
       "3     2011-10-13  1.384  0.013177\n",
       "4     2011-10-14  1.381 -0.002168\n",
       "...          ...    ...       ...\n",
       "2236  2020-12-16  6.807  0.005911\n",
       "2237  2020-12-17  6.899  0.013515\n",
       "2238  2020-12-18  6.942  0.006233\n",
       "2239  2020-12-21  7.024  0.011812\n",
       "2240  2020-12-22  6.921 -0.014664\n",
       "\n",
       "[2241 rows x 3 columns]"
      ]
     },
     "execution_count": 35,
     "metadata": {},
     "output_type": "execute_result"
    }
   ],
   "source": [
    "fund_values"
   ]
  },
  {
   "cell_type": "code",
   "execution_count": 34,
   "metadata": {},
   "outputs": [],
   "source": [
    "# 读取数据\n",
    "df = pd.read_excel(\"基金净值数据.xlsx\",encoding='gbk')\n",
    "fund_values = df[['日期','复权净值(元)']]\n",
    "fund_values.columns = ['tradedate','nv']\n",
    "fund_values['chg_fund'] = fund_values['nv'].pct_change()\n",
    "fund_values=fund_values.fillna(0)"
   ]
  },
  {
   "cell_type": "code",
   "execution_count": 4,
   "metadata": {},
   "outputs": [],
   "source": [
    "# 获取价格\n",
    "def stock_price(sec, period, sday, eday):\n",
    "    \"\"\"\n",
    "    输入 股票代码，开始日期，截至日期\n",
    "    输出 个股的后复权的开高低收价格\n",
    "    \"\"\"\n",
    "    temp = get_price(sec, start_date=sday, end_date=eday, frequency=period, fields=['open', 'close', 'high', 'low'],\n",
    "                     skip_paused=True, fq='pre', count=None).reset_index() \\\n",
    "        .rename(columns={'index': 'tradedate'})\n",
    "    temp['stockcode'] = sec\n",
    "    return temp"
   ]
  },
  {
   "cell_type": "markdown",
   "metadata": {},
   "source": [
    "## 计算业绩基准"
   ]
  },
  {
   "cell_type": "code",
   "execution_count": 37,
   "metadata": {},
   "outputs": [],
   "source": [
    "import math\n",
    "# 一年期定期存款的日利率\n",
    "r_f = math.pow(1.0175, 1/252) - 1\n",
    "#沪深300\n",
    "hs300 = stock_price('000300.XSHG', '1d', '2011-10-01', '2020-12-22')\n",
    "hs300['chg_hs300'] = hs300.close.pct_change()\n",
    "# 国债指数\n",
    "gz = stock_price('000012.XSHG', '1d', '2011-10-01', '2020-12-22')\n",
    "gz['chg_gz'] = gz.close.pct_change()\n",
    "# 业绩基准\n",
    "b_mark = hs300[['tradedate','chg_hs300']].merge(gz[['tradedate','chg_gz']])\n",
    "b_mark['chg'] = 0.6 * b_mark['chg_hs300'] + 0.35 * b_mark['chg_gz'] + 0.05 * r_f\n",
    "b_mark.fillna(0,inplace=True)\n",
    "b_mark['benchmark'] = (b_mark['chg'] + 1).cumprod()"
   ]
  },
  {
   "cell_type": "markdown",
   "metadata": {},
   "source": [
    "## 指标计算"
   ]
  },
  {
   "cell_type": "code",
   "execution_count": 43,
   "metadata": {},
   "outputs": [],
   "source": [
    "# 计算半方差\n",
    "def Semivariance(x):\n",
    "    r = x.pct_change().dropna()\n",
    "    r_mean = np.mean(r)\n",
    "    lows = [(i-r_mean)**2 for i in r if i <= r_mean]\n",
    "    return np.sum(lows) / len(lows) * 252\n",
    "\n",
    "# 计算VaR \n",
    "def var(netlist, a=0.05):\n",
    "    '''\n",
    "    :param list:netlist\n",
    "    :return: 95%置信概率的日VAR值\n",
    "    '''\n",
    "    r = netlist.pct_change().dropna()\n",
    "    r_s = pd.Series(r)\n",
    "    # r_s_p = r_s.rolling(period).apply(np.sum, raw=True)\n",
    "    r_s = r_s.dropna()\n",
    "    var = np.quantile(r_s, a, interpolation='linear')\n",
    "    return (var)\n",
    "\n",
    "# 计算IR\n",
    "def ir(netlist1, netlist2):\n",
    "    r1 = netlist1.pct_change().dropna()\n",
    "    asset_return = pd.Series(r1)\n",
    "    r2 = netlist2.pct_change().dropna()\n",
    "    index_return = pd.Series(r2)\n",
    "    multiplier = 252\n",
    "    if asset_return is not None and index_return is not None:\n",
    "        active_return = asset_return - index_return\n",
    "        tracking_error = (active_return.std(ddof=1)) * np.sqrt(multiplier)\n",
    "        asset_annualized_return = multiplier * asset_return.mean()\n",
    "        index_annualized_return = multiplier * index_return.mean()\n",
    "        information_ratio = (asset_annualized_return - index_annualized_return) / tracking_error\n",
    "    else:\n",
    "        information_ratio = np.nan\n",
    "    return information_ratio"
   ]
  },
  {
   "cell_type": "markdown",
   "metadata": {},
   "source": [
    "## 半方差、VAR值、IR值计算结果"
   ]
  },
  {
   "cell_type": "code",
   "execution_count": 44,
   "metadata": {},
   "outputs": [
    {
     "data": {
      "text/plain": [
       "('半方差：', 0.046769640625613035)"
      ]
     },
     "execution_count": 44,
     "metadata": {},
     "output_type": "execute_result"
    }
   ],
   "source": [
    "b_mark.tradedate = b_mark.tradedate.apply(lambda s: str(s)[:10])\n",
    "value_data = fund_values.merge(b_mark)\n",
    "# 计算半方差\n",
    "Semivar = Semivariance(value_data.nv)\n",
    "'半方差：', Semivar"
   ]
  },
  {
   "cell_type": "code",
   "execution_count": 45,
   "metadata": {},
   "outputs": [
    {
     "data": {
      "text/plain": [
       "('VAR值：', -0.019217008307242798)"
      ]
     },
     "execution_count": 45,
     "metadata": {},
     "output_type": "execute_result"
    }
   ],
   "source": [
    "# 计算VAR\n",
    "var_1 =  var(value_data.nv, a=0.05)\n",
    "'VAR值：', var_1"
   ]
  },
  {
   "cell_type": "code",
   "execution_count": 47,
   "metadata": {},
   "outputs": [
    {
     "data": {
      "text/plain": [
       "('IR值：', 1.130152832910393)"
      ]
     },
     "execution_count": 47,
     "metadata": {},
     "output_type": "execute_result"
    }
   ],
   "source": [
    "# 计算IR值\n",
    "IR = ir(value_data.nv, value_data.benchmark)\n",
    "'IR值：', IR"
   ]
  },
  {
   "cell_type": "markdown",
   "metadata": {},
   "source": [
    "## 该基金的择时能力：HM模型"
   ]
  },
  {
   "cell_type": "code",
   "execution_count": 49,
   "metadata": {},
   "outputs": [
    {
     "data": {
      "text/html": [
       "<table class=\"simpletable\">\n",
       "<tr>\n",
       "        <td>Model:</td>               <td>OLS</td>         <td>Adj. R-squared:</td>     <td>0.611</td>  \n",
       "</tr>\n",
       "<tr>\n",
       "  <td>Dependent Variable:</td>         <td>y</td>               <td>AIC:</td>         <td>-440.2490</td>\n",
       "</tr>\n",
       "<tr>\n",
       "         <td>Date:</td>        <td>2020-12-30 10:08</td>        <td>BIC:</td>         <td>-432.1204</td>\n",
       "</tr>\n",
       "<tr>\n",
       "   <td>No. Observations:</td>         <td>111</td>         <td>Log-Likelihood:</td>    <td>223.12</td>  \n",
       "</tr>\n",
       "<tr>\n",
       "       <td>Df Model:</td>              <td>2</td>           <td>F-statistic:</td>       <td>87.31</td>  \n",
       "</tr>\n",
       "<tr>\n",
       "     <td>Df Residuals:</td>           <td>108</td>       <td>Prob (F-statistic):</td> <td>2.76e-23</td> \n",
       "</tr>\n",
       "<tr>\n",
       "      <td>R-squared:</td>            <td>0.618</td>            <td>Scale:</td>        <td>0.0010801</td>\n",
       "</tr>\n",
       "</table>\n",
       "<table class=\"simpletable\">\n",
       "<tr>\n",
       "    <td></td>     <th>Coef.</th>  <th>Std.Err.</th>    <th>t</th>     <th>P>|t|</th> <th>[0.025</th>  <th>0.975]</th> \n",
       "</tr>\n",
       "<tr>\n",
       "  <th>const</th> <td>0.0172</td>   <td>0.0045</td>  <td>3.7969</td>  <td>0.0002</td> <td>0.0082</td>  <td>0.0261</td> \n",
       "</tr>\n",
       "<tr>\n",
       "  <th>x1</th>    <td>1.3036</td>   <td>0.1518</td>  <td>8.5891</td>  <td>0.0000</td> <td>1.0027</td>  <td>1.6044</td> \n",
       "</tr>\n",
       "<tr>\n",
       "  <th>x2</th>    <td>-0.5000</td>  <td>0.2291</td>  <td>-2.1825</td> <td>0.0312</td> <td>-0.9541</td> <td>-0.0459</td>\n",
       "</tr>\n",
       "</table>\n",
       "<table class=\"simpletable\">\n",
       "<tr>\n",
       "     <td>Omnibus:</td>    <td>13.679</td>  <td>Durbin-Watson:</td>    <td>1.975</td>\n",
       "</tr>\n",
       "<tr>\n",
       "  <td>Prob(Omnibus):</td>  <td>0.001</td> <td>Jarque-Bera (JB):</td> <td>42.141</td>\n",
       "</tr>\n",
       "<tr>\n",
       "       <td>Skew:</td>      <td>0.200</td>     <td>Prob(JB):</td>      <td>0.000</td>\n",
       "</tr>\n",
       "<tr>\n",
       "     <td>Kurtosis:</td>    <td>5.992</td>  <td>Condition No.:</td>     <td>85</td>  \n",
       "</tr>\n",
       "</table>"
      ],
      "text/plain": [
       "<class 'statsmodels.iolib.summary2.Summary'>\n",
       "\"\"\"\n",
       "                 Results: Ordinary least squares\n",
       "==================================================================\n",
       "Model:              OLS              Adj. R-squared:     0.611    \n",
       "Dependent Variable: y                AIC:                -440.2490\n",
       "Date:               2020-12-30 10:08 BIC:                -432.1204\n",
       "No. Observations:   111              Log-Likelihood:     223.12   \n",
       "Df Model:           2                F-statistic:        87.31    \n",
       "Df Residuals:       108              Prob (F-statistic): 2.76e-23 \n",
       "R-squared:          0.618            Scale:              0.0010801\n",
       "--------------------------------------------------------------------\n",
       "            Coef.    Std.Err.      t      P>|t|     [0.025    0.975]\n",
       "--------------------------------------------------------------------\n",
       "const       0.0172     0.0045    3.7969   0.0002    0.0082    0.0261\n",
       "x1          1.3036     0.1518    8.5891   0.0000    1.0027    1.6044\n",
       "x2         -0.5000     0.2291   -2.1825   0.0312   -0.9541   -0.0459\n",
       "------------------------------------------------------------------\n",
       "Omnibus:               13.679       Durbin-Watson:          1.975 \n",
       "Prob(Omnibus):         0.001        Jarque-Bera (JB):       42.141\n",
       "Skew:                  0.200        Prob(JB):               0.000 \n",
       "Kurtosis:              5.992        Condition No.:          85    \n",
       "==================================================================\n",
       "\n",
       "\"\"\""
      ]
     },
     "execution_count": 49,
     "metadata": {},
     "output_type": "execute_result"
    }
   ],
   "source": [
    "rf_hm = math.pow(1.0175, 1/12) - 1\n",
    "value_data_2 = value_data[['tradedate','chg_fund','chg']].dropna()\n",
    "value_data_2['month'] = value_data_2.tradedate.apply(lambda s: str(s)[:7])\n",
    "hm_data = value_data_2[['month','chg_fund','chg']].groupby('month').apply(lambda x : (1 + x).prod() - 1)\n",
    "hm_data = hm_data.reset_index()\n",
    "tmp_x = hm_data.copy()\n",
    "tmp_x['y'] = tmp_x['chg_fund'] - rf_hm\n",
    "tmp_x['x1'] = tmp_x['chg'] - rf_hm\n",
    "tmp_x['x2'] = tmp_x['x1'].apply(lambda s: max(s, 0))\n",
    "x_tm = tmp_x[['x1', 'x2']]\n",
    "x_tm = sm.add_constant(x_tm)\n",
    "model_tm = sm.OLS(tmp_x['y'], x_tm).fit()\n",
    "[alpha_tm, beta1_tm, beta2_tm] = model_tm.params\n",
    "[p1_tm, p2_tm, p3_tm] = model_tm.pvalues\n",
    "# 模型结果\n",
    "model_tm.summary2()"
   ]
  },
  {
   "cell_type": "code",
   "execution_count": null,
   "metadata": {},
   "outputs": [],
   "source": []
  }
 ],
 "metadata": {
  "kernelspec": {
   "display_name": "Python 3",
   "language": "python",
   "name": "python3"
  },
  "language_info": {
   "codemirror_mode": {
    "name": "ipython",
    "version": 3
   },
   "file_extension": ".py",
   "mimetype": "text/x-python",
   "name": "python",
   "nbconvert_exporter": "python",
   "pygments_lexer": "ipython3",
   "version": "3.7.6"
  }
 },
 "nbformat": 4,
 "nbformat_minor": 4
}
